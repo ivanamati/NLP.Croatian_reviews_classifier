{
 "cells": [
  {
   "cell_type": "code",
   "execution_count": 4,
   "metadata": {},
   "outputs": [],
   "source": [
    "\n",
    "import pandas as pd\n",
    "import seaborn as sn"
   ]
  },
  {
   "cell_type": "markdown",
   "metadata": {},
   "source": [
    "# Data import and analysis"
   ]
  },
  {
   "cell_type": "code",
   "execution_count": 5,
   "metadata": {},
   "outputs": [
    {
     "data": {
      "text/html": [
       "<div>\n",
       "<style scoped>\n",
       "    .dataframe tbody tr th:only-of-type {\n",
       "        vertical-align: middle;\n",
       "    }\n",
       "\n",
       "    .dataframe tbody tr th {\n",
       "        vertical-align: top;\n",
       "    }\n",
       "\n",
       "    .dataframe thead th {\n",
       "        text-align: right;\n",
       "    }\n",
       "</style>\n",
       "<table border=\"1\" class=\"dataframe\">\n",
       "  <thead>\n",
       "    <tr style=\"text-align: right;\">\n",
       "      <th></th>\n",
       "      <th>0</th>\n",
       "      <th>1</th>\n",
       "    </tr>\n",
       "  </thead>\n",
       "  <tbody>\n",
       "    <tr>\n",
       "      <th>0</th>\n",
       "      <td>True</td>\n",
       "      <td>Savršeno! U samom centru grada. Dobre cijene, ...</td>\n",
       "    </tr>\n",
       "    <tr>\n",
       "      <th>1</th>\n",
       "      <td>True</td>\n",
       "      <td>Godišnja klubska skupština BK Sljeme. Pozdrav ...</td>\n",
       "    </tr>\n",
       "    <tr>\n",
       "      <th>2</th>\n",
       "      <td>True</td>\n",
       "      <td>Hrana je izuzetno fina i ima okus kao da je sv...</td>\n",
       "    </tr>\n",
       "    <tr>\n",
       "      <th>3</th>\n",
       "      <td>True</td>\n",
       "      <td>Odlična kava 😃☕, mirno mjesto, kao i vrlo ljub...</td>\n",
       "    </tr>\n",
       "    <tr>\n",
       "      <th>4</th>\n",
       "      <td>True</td>\n",
       "      <td>Hvala ekipi iz Cvjetnog objekta Žirafa večeras...</td>\n",
       "    </tr>\n",
       "  </tbody>\n",
       "</table>\n",
       "</div>"
      ],
      "text/plain": [
       "      0                                                  1\n",
       "0  True  Savršeno! U samom centru grada. Dobre cijene, ...\n",
       "1  True  Godišnja klubska skupština BK Sljeme. Pozdrav ...\n",
       "2  True  Hrana je izuzetno fina i ima okus kao da je sv...\n",
       "3  True  Odlična kava 😃☕, mirno mjesto, kao i vrlo ljub...\n",
       "4  True  Hvala ekipi iz Cvjetnog objekta Žirafa večeras..."
      ]
     },
     "execution_count": 5,
     "metadata": {},
     "output_type": "execute_result"
    }
   ],
   "source": [
    "df = pd.read_csv(\"reviews_df.csv\")\n",
    "df.head()"
   ]
  },
  {
   "cell_type": "markdown",
   "metadata": {},
   "source": [
    "# True - rating is positive, False - rating is negativ"
   ]
  },
  {
   "cell_type": "code",
   "execution_count": 6,
   "metadata": {},
   "outputs": [],
   "source": [
    "df = df.rename(columns={'0': 'rating', '1':'comment'})"
   ]
  },
  {
   "cell_type": "code",
   "execution_count": 8,
   "metadata": {},
   "outputs": [
    {
     "data": {
      "text/plain": [
       "Index(['rating', 'comment'], dtype='object')"
      ]
     },
     "execution_count": 8,
     "metadata": {},
     "output_type": "execute_result"
    }
   ],
   "source": [
    "df.columns"
   ]
  },
  {
   "cell_type": "code",
   "execution_count": 9,
   "metadata": {},
   "outputs": [
    {
     "name": "stderr",
     "output_type": "stream",
     "text": [
      "c:\\Users\\Ivana\\anaconda3\\lib\\site-packages\\seaborn\\_decorators.py:36: FutureWarning: Pass the following variable as a keyword arg: x. From version 0.12, the only valid positional argument will be `data`, and passing other arguments without an explicit keyword will result in an error or misinterpretation.\n",
      "  warnings.warn(\n"
     ]
    },
    {
     "data": {
      "text/plain": [
       "<AxesSubplot:xlabel='rating', ylabel='count'>"
      ]
     },
     "execution_count": 9,
     "metadata": {},
     "output_type": "execute_result"
    },
    {
     "data": {
      "image/png": "[encoded data removed]",
      "text/plain": [
       "<Figure size 432x288 with 1 Axes>"
      ]
     },
     "metadata": {
      "needs_background": "light"
     },
     "output_type": "display_data"
    }
   ],
   "source": [
    "sn.countplot(df.rating)"
   ]
  },
  {
   "cell_type": "code",
   "execution_count": 15,
   "metadata": {},
   "outputs": [
    {
     "data": {
      "text/plain": [
       "True     2265\n",
       "False    1279\n",
       "Name: rating, dtype: int64"
      ]
     },
     "execution_count": 15,
     "metadata": {},
     "output_type": "execute_result"
    }
   ],
   "source": [
    "df.rating.value_counts()"
   ]
  },
  {
   "cell_type": "code",
   "execution_count": 19,
   "metadata": {},
   "outputs": [],
   "source": [
    "df['rating_num'] = df.rating.map({True:1, False:0})"
   ]
  },
  {
   "cell_type": "code",
   "execution_count": 20,
   "metadata": {},
   "outputs": [
    {
     "data": {
      "text/html": [
       "<div>\n",
       "<style scoped>\n",
       "    .dataframe tbody tr th:only-of-type {\n",
       "        vertical-align: middle;\n",
       "    }\n",
       "\n",
       "    .dataframe tbody tr th {\n",
       "        vertical-align: top;\n",
       "    }\n",
       "\n",
       "    .dataframe thead th {\n",
       "        text-align: right;\n",
       "    }\n",
       "</style>\n",
       "<table border=\"1\" class=\"dataframe\">\n",
       "  <thead>\n",
       "    <tr style=\"text-align: right;\">\n",
       "      <th></th>\n",
       "      <th>rating</th>\n",
       "      <th>comment</th>\n",
       "      <th>rating_num</th>\n",
       "    </tr>\n",
       "  </thead>\n",
       "  <tbody>\n",
       "    <tr>\n",
       "      <th>0</th>\n",
       "      <td>True</td>\n",
       "      <td>Savršeno! U samom centru grada. Dobre cijene, ...</td>\n",
       "      <td>1</td>\n",
       "    </tr>\n",
       "    <tr>\n",
       "      <th>1</th>\n",
       "      <td>True</td>\n",
       "      <td>Godišnja klubska skupština BK Sljeme. Pozdrav ...</td>\n",
       "      <td>1</td>\n",
       "    </tr>\n",
       "    <tr>\n",
       "      <th>2</th>\n",
       "      <td>True</td>\n",
       "      <td>Hrana je izuzetno fina i ima okus kao da je sv...</td>\n",
       "      <td>1</td>\n",
       "    </tr>\n",
       "    <tr>\n",
       "      <th>3</th>\n",
       "      <td>True</td>\n",
       "      <td>Odlična kava 😃☕, mirno mjesto, kao i vrlo ljub...</td>\n",
       "      <td>1</td>\n",
       "    </tr>\n",
       "    <tr>\n",
       "      <th>4</th>\n",
       "      <td>True</td>\n",
       "      <td>Hvala ekipi iz Cvjetnog objekta Žirafa večeras...</td>\n",
       "      <td>1</td>\n",
       "    </tr>\n",
       "  </tbody>\n",
       "</table>\n",
       "</div>"
      ],
      "text/plain": [
       "   rating                                            comment  rating_num\n",
       "0    True  Savršeno! U samom centru grada. Dobre cijene, ...           1\n",
       "1    True  Godišnja klubska skupština BK Sljeme. Pozdrav ...           1\n",
       "2    True  Hrana je izuzetno fina i ima okus kao da je sv...           1\n",
       "3    True  Odlična kava 😃☕, mirno mjesto, kao i vrlo ljub...           1\n",
       "4    True  Hvala ekipi iz Cvjetnog objekta Žirafa večeras...           1"
      ]
     },
     "execution_count": 20,
     "metadata": {},
     "output_type": "execute_result"
    }
   ],
   "source": [
    "df.head()"
   ]
  },
  {
   "cell_type": "code",
   "execution_count": 21,
   "metadata": {},
   "outputs": [
    {
     "data": {
      "text/html": [
       "<div>\n",
       "<style scoped>\n",
       "    .dataframe tbody tr th:only-of-type {\n",
       "        vertical-align: middle;\n",
       "    }\n",
       "\n",
       "    .dataframe tbody tr th {\n",
       "        vertical-align: top;\n",
       "    }\n",
       "\n",
       "    .dataframe thead tr th {\n",
       "        text-align: left;\n",
       "    }\n",
       "\n",
       "    .dataframe thead tr:last-of-type th {\n",
       "        text-align: right;\n",
       "    }\n",
       "</style>\n",
       "<table border=\"1\" class=\"dataframe\">\n",
       "  <thead>\n",
       "    <tr>\n",
       "      <th></th>\n",
       "      <th colspan=\"4\" halign=\"left\">rating</th>\n",
       "      <th colspan=\"4\" halign=\"left\">comment</th>\n",
       "    </tr>\n",
       "    <tr>\n",
       "      <th></th>\n",
       "      <th>count</th>\n",
       "      <th>unique</th>\n",
       "      <th>top</th>\n",
       "      <th>freq</th>\n",
       "      <th>count</th>\n",
       "      <th>unique</th>\n",
       "      <th>top</th>\n",
       "      <th>freq</th>\n",
       "    </tr>\n",
       "    <tr>\n",
       "      <th>rating_num</th>\n",
       "      <th></th>\n",
       "      <th></th>\n",
       "      <th></th>\n",
       "      <th></th>\n",
       "      <th></th>\n",
       "      <th></th>\n",
       "      <th></th>\n",
       "      <th></th>\n",
       "    </tr>\n",
       "  </thead>\n",
       "  <tbody>\n",
       "    <tr>\n",
       "      <th>0</th>\n",
       "      <td>1279</td>\n",
       "      <td>1</td>\n",
       "      <td>False</td>\n",
       "      <td>1279</td>\n",
       "      <td>1279</td>\n",
       "      <td>1258</td>\n",
       "      <td>Hrana zbilja dobra, ima prostora i za mali nap...</td>\n",
       "      <td>2</td>\n",
       "    </tr>\n",
       "    <tr>\n",
       "      <th>1</th>\n",
       "      <td>2265</td>\n",
       "      <td>1</td>\n",
       "      <td>True</td>\n",
       "      <td>2265</td>\n",
       "      <td>2265</td>\n",
       "      <td>2227</td>\n",
       "      <td>Ovdje ćete ukusno pojesti i jako malo platiti,...</td>\n",
       "      <td>2</td>\n",
       "    </tr>\n",
       "  </tbody>\n",
       "</table>\n",
       "</div>"
      ],
      "text/plain": [
       "           rating                     comment         \\\n",
       "            count unique    top  freq   count unique   \n",
       "rating_num                                             \n",
       "0            1279      1  False  1279    1279   1258   \n",
       "1            2265      1   True  2265    2265   2227   \n",
       "\n",
       "                                                                    \n",
       "                                                          top freq  \n",
       "rating_num                                                          \n",
       "0           Hrana zbilja dobra, ima prostora i za mali nap...    2  \n",
       "1           Ovdje ćete ukusno pojesti i jako malo platiti,...    2  "
      ]
     },
     "execution_count": 21,
     "metadata": {},
     "output_type": "execute_result"
    }
   ],
   "source": [
    "df.groupby('rating_num').describe()"
   ]
  },
  {
   "cell_type": "code",
   "execution_count": 22,
   "metadata": {},
   "outputs": [],
   "source": [
    "from sklearn.model_selection import train_test_split\n",
    "\n",
    "X_train, X_test, y_train, y_test = train_test_split(\n",
    "    df.comment,\n",
    "    df.rating_num,\n",
    "    stratify=df.rating_num\n",
    ")"
   ]
  },
  {
   "cell_type": "code",
   "execution_count": 23,
   "metadata": {},
   "outputs": [
    {
     "data": {
      "text/plain": [
       "2665    Odličan pivski gulaš, fino pivo, jako ljubazno...\n",
       "2978    Savrsen ugođaj, ljubszno osoblje, ambijent sup...\n",
       "3228    Ambijent fin, ali usluga čisti prosjek. Hrana ...\n",
       "1923    Super usluga, a hrana da ne pricam, preukusna....\n",
       "2387    predugo čekanje i mali prostor ispred kasa...d...\n",
       "Name: comment, dtype: object"
      ]
     },
     "execution_count": 23,
     "metadata": {},
     "output_type": "execute_result"
    }
   ],
   "source": [
    "X_train.head()"
   ]
  },
  {
   "cell_type": "markdown",
   "metadata": {},
   "source": [
    "### Import tensorflow for BERT"
   ]
  },
  {
   "cell_type": "code",
   "execution_count": 24,
   "metadata": {},
   "outputs": [],
   "source": [
    "import tensorflow as tf\n",
    "import tensorflow_hub as hub\n",
    "import tensorflow_text as text"
   ]
  },
  {
   "cell_type": "code",
   "execution_count": 27,
   "metadata": {},
   "outputs": [],
   "source": [
    "bert_preprocess = hub.KerasLayer(\"https://tfhub.dev/tensorflow/bert_en_uncased_preprocess/3\")\n",
    "bert_encoder = hub.KerasLayer(\"https://tfhub.dev/tensorflow/bert_en_uncased_L-12_H-768_A-12/4\")"
   ]
  },
  {
   "cell_type": "code",
   "execution_count": 28,
   "metadata": {},
   "outputs": [],
   "source": [
    "def get_sentence_embeding(sentences):\n",
    "    preprocessed_text = bert_preprocess(sentences)\n",
    "    return bert_encoder(preprocessed_text)['pooled_output']"
   ]
  },
  {
   "cell_type": "code",
   "execution_count": 30,
   "metadata": {},
   "outputs": [
    {
     "data": {
      "text/plain": [
       "<tf.Tensor: shape=(1, 768), dtype=float32, numpy=\n",
       "array([[-0.63758415, -0.41848284, -0.99432737,  0.82620454,  0.85842806,\n",
       "        -0.266385  ,  0.73144984,  0.4130124 , -0.9601587 , -0.999937  ,\n",
       "        -0.61279243,  0.9715844 ,  0.8172495 ,  0.8336045 ,  0.45702103,\n",
       "        -0.84297395, -0.5567209 , -0.5748343 ,  0.27769238,  0.20088291,\n",
       "         0.6843097 ,  1.        , -0.6994725 ,  0.38570243,  0.3279886 ,\n",
       "         0.9929638 , -0.6896063 ,  0.48976862,  0.79821587,  0.30568045,\n",
       "        -0.61686116,  0.25196865, -0.9023649 , -0.22141927, -0.9971601 ,\n",
       "        -0.9478164 ,  0.40773213, -0.21895239, -0.09621991, -0.22255601,\n",
       "        -0.6089841 ,  0.2796304 ,  0.9999733 ,  0.62655985,  0.5174335 ,\n",
       "        -0.18519929, -1.        ,  0.481638  , -0.48840997,  0.98653674,\n",
       "         0.9798135 ,  0.9819985 ,  0.27228317,  0.3835268 ,  0.504712  ,\n",
       "        -0.6939012 , -0.07220121,  0.13945596, -0.18971175, -0.48235998,\n",
       "        -0.5153407 ,  0.60195553, -0.9811838 , -0.64527804,  0.9776733 ,\n",
       "         0.9841031 , -0.27799332, -0.47862878,  0.13312855,  0.08654324,\n",
       "         0.57974684,  0.22217746, -0.70639735, -0.64320385,  0.9072769 ,\n",
       "         0.45578507, -0.8488837 ,  1.        , -0.5166035 , -0.81212765,\n",
       "         0.9748791 ,  0.96684384,  0.8070457 , -0.85979676,  0.92119384,\n",
       "        -1.        ,  0.66237944, -0.2736563 , -0.8899671 ,  0.3262859 ,\n",
       "         0.56996655, -0.2663099 ,  0.96814907,  0.834997  , -0.86613095,\n",
       "        -0.7388058 , -0.3480975 , -0.9825894 , -0.33335847, -0.5537077 ,\n",
       "         0.36036435, -0.2739149 , -0.47735018, -0.24992798,  0.42078063,\n",
       "        -0.51718587, -0.31231803,  0.6740098 ,  0.64116323,  0.70596725,\n",
       "         0.67398286, -0.42186362,  0.46105552, -0.8083743 ,  0.48683885,\n",
       "        -0.42322397, -0.8512548 , -0.8218575 , -0.89250785,  0.62159425,\n",
       "        -0.7129429 , -0.31349218,  0.5563091 , -0.86638427,  0.4817122 ,\n",
       "        -0.24099001, -0.98939717, -1.        , -0.873771  , -0.9061416 ,\n",
       "        -0.45629692, -0.32752326, -0.7811358 , -0.74856085,  0.5006237 ,\n",
       "         0.4929996 ,  0.22283947,  0.9998844 , -0.331485  ,  0.79998773,\n",
       "        -0.66398054, -0.8944786 ,  0.8883393 , -0.61360765,  0.9425911 ,\n",
       "         0.00328313, -0.70028114,  0.25634545, -0.5561938 ,  0.5107023 ,\n",
       "        -0.884844  , -0.36627296, -0.9800148 , -0.46957836, -0.34623843,\n",
       "         0.724708  , -0.8831809 , -0.9934027 , -0.7465516 , -0.28114828,\n",
       "        -0.50382304,  0.4544688 ,  0.9043215 ,  0.27202138, -0.49595088,\n",
       "         0.4330732 ,  0.65795314,  0.40023595, -0.5436468 , -0.52545446,\n",
       "         0.53007853, -0.42257574, -0.9894721 , -0.800411  , -0.24259806,\n",
       "         0.25450134,  0.84181505,  0.62470907,  0.37243578,  0.92801636,\n",
       "        -0.38556907,  0.8814192 , -0.8074694 ,  0.8666321 , -0.27607045,\n",
       "         0.31767052, -0.8994108 ,  0.8197289 , -0.49909037,  0.7565842 ,\n",
       "         0.69331735, -0.8969286 , -0.3045675 , -0.19638272, -0.46852365,\n",
       "        -0.32162708, -0.95699155,  0.39385065, -0.3338679 , -0.42433578,\n",
       "        -0.18746413,  0.60411596,  0.94476295,  0.07314391,  0.8748943 ,\n",
       "         0.53832346, -0.5822295 , -0.5721542 ,  0.17083116,  0.31286234,\n",
       "         0.1668772 ,  0.87248343, -0.9427151 , -0.15633619, -0.5941249 ,\n",
       "        -0.90465206, -0.12490291, -0.5137271 , -0.29486462, -0.58295304,\n",
       "         0.78367555, -0.6091545 ,  0.8425896 ,  0.3500239 , -0.75684744,\n",
       "        -0.5795338 ,  0.3676295 , -0.5446094 ,  0.5542358 , -0.34625918,\n",
       "         0.8492469 ,  0.99661446, -0.56836766,  0.29456794,  0.8817284 ,\n",
       "        -0.9973807 , -0.471118  ,  0.37554592, -0.36286038,  0.6459172 ,\n",
       "        -0.6685454 ,  0.9721354 ,  0.99299157,  0.7786887 , -0.5468129 ,\n",
       "        -0.9805615 , -0.49068937, -0.9468886 , -0.16555892,  0.8237611 ,\n",
       "         0.98610723,  0.83899546,  0.41435528, -0.63997716, -0.5115044 ,\n",
       "         0.8848467 , -0.81861264, -0.80870384, -0.8152068 , -0.41292793,\n",
       "        -0.9429636 ,  0.97491086,  0.3645989 ,  0.86262447, -0.48968342,\n",
       "        -0.5678442 , -0.4897337 ,  0.7366972 ,  0.25215665,  0.9531037 ,\n",
       "        -0.43821362, -0.78152466, -0.7288835 , -0.75998706,  0.09400455,\n",
       "        -0.22704539, -0.85435784,  0.0315867 , -0.55376077,  0.57494694,\n",
       "         0.4494365 ,  0.44720325, -0.98563814,  0.97479963,  1.        ,\n",
       "         0.8128812 ,  0.6067476 ,  0.11403876, -0.99999803, -0.67057526,\n",
       "         0.99997723, -0.9966081 , -1.        , -0.34888217, -0.7964975 ,\n",
       "         0.13844348, -1.        , -0.324     , -0.15966325, -0.6531248 ,\n",
       "         0.9382797 ,  0.74785995,  0.7268512 , -1.        ,  0.3190543 ,\n",
       "         0.737055  , -0.859431  ,  0.97506577, -0.5581227 ,  0.77058285,\n",
       "         0.77486104,  0.30932298, -0.25337508,  0.52236336, -0.9952693 ,\n",
       "        -0.73036015, -0.93464833, -0.96543145,  0.9999683 ,  0.29241604,\n",
       "        -0.7924296 , -0.46147847,  0.66735655, -0.2776984 ,  0.38628453,\n",
       "        -0.76906663, -0.43036246,  0.84317607,  0.8819196 ,  0.2282171 ,\n",
       "         0.3833981 , -0.4681539 ,  0.32168615,  0.8537531 , -0.08993819,\n",
       "         0.8323036 , -0.6401967 , -0.36802012, -0.7138142 ,  0.32232198,\n",
       "        -0.9536705 , -0.8858265 ,  0.7292197 , -0.44882166,  0.9781637 ,\n",
       "         1.        ,  0.6684536 , -0.5270281 ,  0.7650753 ,  0.44355732,\n",
       "        -0.9267353 ,  1.        ,  0.9053711 , -0.8336416 , -0.83389336,\n",
       "         0.7845279 , -0.597032  , -0.6967351 ,  0.9976159 , -0.0258878 ,\n",
       "        -0.9456394 , -0.86624855,  0.93364084, -0.88474494,  0.9999593 ,\n",
       "        -0.37329945, -0.755136  ,  0.5451509 ,  0.6434612 , -0.8778401 ,\n",
       "        -0.44118282,  0.384443  , -0.95664537,  0.5054459 , -0.32193634,\n",
       "         0.7713523 ,  0.57843816,  0.05155899,  0.4078771 , -0.5972621 ,\n",
       "        -0.8143829 ,  0.04360657, -0.9036656 , -0.670137  ,  0.9977678 ,\n",
       "         0.53968996, -0.3297138 ,  0.00344279, -0.2466441 , -0.5968271 ,\n",
       "        -0.750883  ,  0.8649654 ,  1.        , -0.48379228,  0.9804783 ,\n",
       "        -0.71247786,  0.00762339,  0.18436171,  0.6669688 ,  0.5819663 ,\n",
       "        -0.42877296, -0.62006164,  0.93946946, -0.68698585, -0.9649029 ,\n",
       "         0.55641305,  0.39822584, -0.30471835,  0.99999714,  0.7398787 ,\n",
       "         0.2431453 ,  0.52862525,  0.99388   ,  0.28946805,  0.01723466,\n",
       "         0.979171  ,  0.8339834 , -0.34028718,  0.82218057,  0.24080385,\n",
       "        -0.98656315, -0.48745245, -0.5785068 ,  0.07217173, -0.7279406 ,\n",
       "        -0.0506228 , -0.75137615,  0.74549055,  0.9950748 ,  0.47437477,\n",
       "         0.21662529,  0.942673  ,  1.        , -0.8747203 ,  0.4531213 ,\n",
       "         0.16408357,  0.6151784 , -0.9999977 , -0.544385  , -0.35654277,\n",
       "        -0.25548622, -0.98568046, -0.39665976,  0.33864358, -0.8262942 ,\n",
       "         0.97460496,  0.86429876, -0.9230635 , -0.8795013 , -0.8366389 ,\n",
       "         0.6739096 ,  0.18719584, -0.9987503 , -0.3492389 ,  0.02614524,\n",
       "         0.735403  , -0.54944247, -0.43540633, -0.73497343, -0.29204884,\n",
       "         0.6306554 , -0.2268504 ,  0.76056564,  0.988072  , -0.01989973,\n",
       "        -0.9553345 , -0.67022157, -0.13598973, -0.65406203,  0.7754923 ,\n",
       "        -0.6555341 , -0.9926416 , -0.44626164,  1.        , -0.48704177,\n",
       "         0.98930913,  0.52490664,  0.5826261 , -0.4675971 ,  0.352067  ,\n",
       "         0.9946506 ,  0.42123854, -0.96089196, -0.9880498 ,  0.22902471,\n",
       "        -0.45542374,  0.6752489 ,  0.95842075,  0.9654564 ,  0.46210584,\n",
       "         0.6937242 ,  0.2158504 ,  0.05958861,  0.17389967,  0.9715781 ,\n",
       "        -0.2780555 , -0.2903824 , -0.26394355, -0.29722345, -0.48857296,\n",
       "        -0.14606048,  1.        ,  0.39064863,  0.8391075 , -0.91884804,\n",
       "        -0.98636395, -0.79288334,  1.        ,  0.673213  , -0.21072699,\n",
       "         0.61089784,  0.76620275, -0.25153998,  0.6006191 , -0.24973762,\n",
       "        -0.30174062,  0.46172753,  0.09977251,  0.7363433 , -0.5265328 ,\n",
       "        -0.78652626, -0.4870446 ,  0.37589857, -0.6472154 ,  0.9999994 ,\n",
       "        -0.5827752 , -0.36016676, -0.13302092, -0.66901845, -0.5382569 ,\n",
       "        -0.02012803, -0.8790138 , -0.0516521 ,  0.42867094,  0.8086546 ,\n",
       "         0.35960352, -0.7628988 , -0.7690834 ,  0.9806463 ,  0.9497115 ,\n",
       "        -0.98581636, -0.7220475 ,  0.78813165, -0.87239516,  0.6073786 ,\n",
       "         1.        ,  0.3725352 ,  0.78829706,  0.36536917, -0.44585228,\n",
       "         0.4127457 , -0.78320646,  0.6244601 , -0.3436705 , -0.2605391 ,\n",
       "        -0.29646456,  0.30071348, -0.20008482, -0.77767843,  0.36176878,\n",
       "         0.18086696, -0.79541564, -0.67979616, -0.18347114,  0.488808  ,\n",
       "         0.6228    , -0.22271661, -0.36188385,  0.22493088, -0.02777318,\n",
       "        -0.76179177, -0.5047118 , -0.5737044 , -1.        ,  0.5061755 ,\n",
       "        -1.        ,  0.87302274,  0.77574694, -0.09600868,  0.15217853,\n",
       "         0.02807315,  0.8632417 , -0.15690836, -0.9761985 , -0.53050023,\n",
       "         0.3043608 , -0.554757  , -0.7500947 , -0.10555969,  0.44742602,\n",
       "        -0.20139182,  0.19279885, -0.8866477 ,  0.4377914 , -0.2792499 ,\n",
       "         1.        ,  0.10918159, -0.77615356, -0.8301507 ,  0.34990478,\n",
       "        -0.31824127,  1.        , -0.6356566 , -0.76421297,  0.47244638,\n",
       "        -0.761304  , -0.5659147 ,  0.3832362 ,  0.06374212, -0.8461555 ,\n",
       "        -0.9926329 ,  0.5078986 ,  0.65486515, -0.78575253,  0.69433326,\n",
       "        -0.50291294, -0.6474007 ,  0.22542423,  0.98950064,  0.86592734,\n",
       "         0.62902117,  0.48158824, -0.405574  , -0.61438954,  0.7046119 ,\n",
       "         0.2612003 ,  0.3118641 ,  0.1992291 ,  1.        ,  0.43038264,\n",
       "        -0.6672327 , -0.33754843, -0.5365608 , -0.38407215, -0.58938384,\n",
       "         0.181039  ,  0.41386303,  0.739371  , -0.33339936,  0.753539  ,\n",
       "        -0.9686425 ,  0.09354915, -0.82465094, -0.95401853,  0.2010898 ,\n",
       "        -0.7758749 , -0.908294  , -0.8996918 ,  0.7135259 , -0.3463732 ,\n",
       "        -0.2037293 ,  0.2383325 , -0.02483835,  0.52076036,  0.39814565,\n",
       "        -1.        ,  0.7523922 ,  0.51111877,  0.98327464,  0.72956985,\n",
       "         0.90868884,  0.6962653 ,  0.3416113 , -0.7713724 , -0.77732056,\n",
       "        -0.25593865, -0.2552268 ,  0.6293031 ,  0.38853365,  0.27735382,\n",
       "         0.17149778, -0.38563448, -0.608458  , -0.9496485 , -0.4941382 ,\n",
       "        -0.92193156,  0.44639832, -0.88965636, -0.54068255,  0.7645877 ,\n",
       "         0.57326984, -0.14565231, -0.7628549 , -0.92711735,  0.5237859 ,\n",
       "         0.7068115 ,  0.18066888,  0.23715132,  0.48078033,  0.3951436 ,\n",
       "         0.8017747 ,  0.9094794 , -0.98094153,  0.54974717, -0.9440479 ,\n",
       "         0.3992306 ,  0.77663344, -0.7301097 ,  0.23902275,  0.5098067 ,\n",
       "        -0.63933647,  0.33881414, -0.28104186, -0.49135953,  0.73254764,\n",
       "        -0.4518107 ,  0.6669049 , -0.4725534 , -0.11491928, -0.41544023,\n",
       "        -0.31936797, -0.27719685, -0.79048157,  0.72907686,  0.22070815,\n",
       "         0.42072177,  0.9520007 , -0.13435923, -0.7345233 , -0.21179484,\n",
       "        -0.96261656, -0.6466481 ,  0.6160454 , -0.30946556, -0.8769303 ,\n",
       "         0.95505816,  0.16549307,  0.8735829 ,  0.83784467, -0.28059223,\n",
       "        -0.2593951 , -0.46442553,  0.30273184, -0.43187422, -0.68388826,\n",
       "        -0.7543811 ,  0.61157686,  0.3725976 ,  1.        , -0.9690554 ,\n",
       "        -0.98265016, -0.45627597, -0.39547086,  0.5533904 , -0.6103793 ,\n",
       "        -1.        ,  0.51958835, -0.7936824 ,  0.9318536 , -0.94777256,\n",
       "         0.9845608 , -0.93895984, -0.82730407, -0.4230388 ,  0.63301736,\n",
       "         0.9413686 , -0.41722864, -0.8327216 ,  0.76407355, -0.73959106,\n",
       "         0.99536645,  0.19492339, -0.8077342 , -0.56132984,  0.8354908 ,\n",
       "        -0.983162  , -0.53179336,  0.49266633]], dtype=float32)>"
      ]
     },
     "execution_count": 30,
     "metadata": {},
     "output_type": "execute_result"
    }
   ],
   "source": [
    "get_sentence_embeding([df.comment[1]])"
   ]
  },
  {
   "cell_type": "markdown",
   "metadata": {},
   "source": [
    "### Building Tensorflow model\n"
   ]
  },
  {
   "cell_type": "code",
   "execution_count": 32,
   "metadata": {},
   "outputs": [],
   "source": [
    "### Bert layers with input & output\n",
    "\n",
    "text_input = tf.keras.layers.Input(shape=(), dtype=tf.string, name='text')\n",
    "preprocessed_text = bert_preprocess(text_input)\n",
    "outputs = bert_encoder(preprocessed_text)\n",
    "\n",
    "# Neural Network Layers\n",
    "l = tf.keras.layers.Dropout(0.1, name=\"dropout\")(outputs['pooled_output'])\n",
    "l = tf.keras.layers.Dense(1, activation='sigmoid', name = 'output')(l)\n",
    "\n",
    "# final Model with inputs & outputs\n",
    "model = tf.keras.Model(inputs=[text_input], outputs= [l])"
   ]
  },
  {
   "cell_type": "code",
   "execution_count": 33,
   "metadata": {},
   "outputs": [],
   "source": [
    "METRICS = [\n",
    "      tf.keras.metrics.BinaryAccuracy(name='accuracy'),\n",
    "      tf.keras.metrics.Precision(name='precision'),\n",
    "      tf.keras.metrics.Recall(name='recall')\n",
    "]\n",
    "\n",
    "model.compile(optimizer='adam',\n",
    "              loss='binary_crossentropy',\n",
    "              metrics=METRICS)"
   ]
  },
  {
   "cell_type": "code",
   "execution_count": 34,
   "metadata": {},
   "outputs": [
    {
     "name": "stdout",
     "output_type": "stream",
     "text": [
      "Epoch 1/10\n",
      "84/84 [==============================] - 875s 10s/step - loss: 0.6757 - accuracy: 0.6117 - precision: 0.6372 - recall: 0.9117\n",
      "Epoch 2/10\n",
      "84/84 [==============================] - 825s 10s/step - loss: 0.6558 - accuracy: 0.6336 - precision: 0.6484 - recall: 0.9323\n",
      "Epoch 3/10\n",
      "84/84 [==============================] - 851s 10s/step - loss: 0.6463 - accuracy: 0.6309 - precision: 0.6507 - recall: 0.9123\n",
      "Epoch 4/10\n",
      "84/84 [==============================] - 906s 11s/step - loss: 0.6392 - accuracy: 0.6445 - precision: 0.6602 - recall: 0.9147\n",
      "Epoch 5/10\n",
      "84/84 [==============================] - 840s 10s/step - loss: 0.6345 - accuracy: 0.6531 - precision: 0.6681 - recall: 0.9088\n",
      "Epoch 6/10\n",
      "84/84 [==============================] - 980s 12s/step - loss: 0.6302 - accuracy: 0.6464 - precision: 0.6673 - recall: 0.8911\n",
      "Epoch 7/10\n",
      "84/84 [==============================] - 975s 12s/step - loss: 0.6217 - accuracy: 0.6546 - precision: 0.6732 - recall: 0.8935\n",
      "Epoch 8/10\n",
      "84/84 [==============================] - 827s 10s/step - loss: 0.6279 - accuracy: 0.6550 - precision: 0.6772 - recall: 0.8793\n",
      "Epoch 9/10\n",
      "84/84 [==============================] - 811s 10s/step - loss: 0.6114 - accuracy: 0.6637 - precision: 0.6791 - recall: 0.8982\n",
      "Epoch 10/10\n",
      "84/84 [==============================] - 795s 9s/step - loss: 0.6180 - accuracy: 0.6648 - precision: 0.6813 - recall: 0.8935\n"
     ]
    },
    {
     "data": {
      "text/plain": [
       "<keras.callbacks.History at 0x21c4c293a90>"
      ]
     },
     "execution_count": 34,
     "metadata": {},
     "output_type": "execute_result"
    }
   ],
   "source": [
    "model.fit(X_train, y_train, epochs=10)"
   ]
  },
  {
   "cell_type": "code",
   "execution_count": 35,
   "metadata": {},
   "outputs": [],
   "source": [
    "from sklearn.metrics import classification_report, confusion_matrix"
   ]
  },
  {
   "cell_type": "code",
   "execution_count": 39,
   "metadata": {},
   "outputs": [
    {
     "data": {
      "text/plain": [
       "1"
      ]
     },
     "execution_count": 39,
     "metadata": {},
     "output_type": "execute_result"
    }
   ],
   "source": [
    "y_test[1]"
   ]
  },
  {
   "cell_type": "code",
   "execution_count": 42,
   "metadata": {},
   "outputs": [
    {
     "data": {
      "text/plain": [
       "(886,)"
      ]
     },
     "execution_count": 42,
     "metadata": {},
     "output_type": "execute_result"
    }
   ],
   "source": [
    "y_test.shape"
   ]
  },
  {
   "cell_type": "code",
   "execution_count": 37,
   "metadata": {},
   "outputs": [
    {
     "name": "stdout",
     "output_type": "stream",
     "text": [
      "28/28 [==============================] - 701s 24s/step\n"
     ]
    }
   ],
   "source": [
    "y_pred = model.predict(X_test)\n"
   ]
  },
  {
   "cell_type": "code",
   "execution_count": 43,
   "metadata": {},
   "outputs": [
    {
     "data": {
      "text/plain": [
       "(886, 1)"
      ]
     },
     "execution_count": 43,
     "metadata": {},
     "output_type": "execute_result"
    }
   ],
   "source": [
    "y_pred.shape"
   ]
  },
  {
   "cell_type": "code",
   "execution_count": 1,
   "metadata": {},
   "outputs": [
    {
     "ename": "NameError",
     "evalue": "name 'y_pred' is not defined",
     "output_type": "error",
     "traceback": [
      "\u001b[1;31m---------------------------------------------------------------------------\u001b[0m",
      "\u001b[1;31mNameError\u001b[0m                                 Traceback (most recent call last)",
      "\u001b[1;32mc:\\Users\\Ivana\\Desktop\\CODEProjects\\NLP.Croatian_reviews_classifier\\google_reviews_bert_classifier.ipynb Cell 28\u001b[0m line \u001b[0;36m<cell line: 3>\u001b[1;34m()\u001b[0m\n\u001b[0;32m      <a href='vscode-notebook-cell:/c%3A/Users/Ivana/Desktop/CODEProjects/NLP.Croatian_reviews_classifier/google_reviews_bert_classifier.ipynb#Y121sZmlsZQ%3D%3D?line=0'>1</a>\u001b[0m \u001b[39mimport\u001b[39;00m \u001b[39mnumpy\u001b[39;00m \u001b[39mas\u001b[39;00m \u001b[39mnp\u001b[39;00m\n\u001b[1;32m----> <a href='vscode-notebook-cell:/c%3A/Users/Ivana/Desktop/CODEProjects/NLP.Croatian_reviews_classifier/google_reviews_bert_classifier.ipynb#Y121sZmlsZQ%3D%3D?line=2'>3</a>\u001b[0m y_pred \u001b[39m=\u001b[39m np\u001b[39m.\u001b[39mwhere(y_pred \u001b[39m>\u001b[39m \u001b[39m0.5\u001b[39m, \u001b[39m1\u001b[39m, \u001b[39m0\u001b[39m)\n",
      "\u001b[1;31mNameError\u001b[0m: name 'y_pred' is not defined"
     ]
    }
   ],
   "source": [
    "import numpy as np\n",
    "\n",
    "y_pred = np.where(y_pred > 0.5, 1, 0)"
   ]
  },
  {
   "cell_type": "code",
   "execution_count": 46,
   "metadata": {},
   "outputs": [
    {
     "data": {
      "text/plain": [
       "array([0])"
      ]
     },
     "execution_count": 46,
     "metadata": {},
     "output_type": "execute_result"
    }
   ],
   "source": [
    "y_pred[1]"
   ]
  },
  {
   "cell_type": "code",
   "execution_count": 47,
   "metadata": {},
   "outputs": [
    {
     "name": "stdout",
     "output_type": "stream",
     "text": [
      "[[ 76 244]\n",
      " [ 33 533]]\n"
     ]
    },
    {
     "data": {
      "text/plain": [
       "Text(33.0, 0.5, 'Truth')"
      ]
     },
     "execution_count": 47,
     "metadata": {},
     "output_type": "execute_result"
    },
    {
     "data": {
      "image/png": "[encoded data removed]",
      "text/plain": [
       "<Figure size 432x288 with 2 Axes>"
      ]
     },
     "metadata": {
      "needs_background": "light"
     },
     "output_type": "display_data"
    }
   ],
   "source": [
    "cm = confusion_matrix(y_test, y_pred)\n",
    "print(cm)\n",
    "\n",
    "import seaborn as sn\n",
    "from matplotlib import pyplot as plt\n",
    "\n",
    "sn.heatmap(cm, annot=True, fmt='d')\n",
    "plt.xlabel('Predicted values')\n",
    "plt.ylabel('Truth')"
   ]
  }
 ],
 "metadata": {
  "kernelspec": {
   "display_name": "base",
   "language": "python",
   "name": "python3"
  },
  "language_info": {
   "codemirror_mode": {
    "name": "ipython",
    "version": 3
   },
   "file_extension": ".py",
   "mimetype": "text/x-python",
   "name": "python",
   "nbconvert_exporter": "python",
   "pygments_lexer": "ipython3",
   "version": "3.9.13"
  }
 },
 "nbformat": 4,
 "nbformat_minor": 2
}
